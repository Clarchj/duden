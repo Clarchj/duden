{
 "cells": [
  {
   "cell_type": "code",
   "execution_count": 41,
   "id": "3420bca2-beeb-4c43-84ba-a387614650b5",
   "metadata": {},
   "outputs": [],
   "source": [
    "import pandas as pd\n",
    "import duden as dd\n",
    "from duden import Number, Case, Gender, Degree, Person, Mood, Tense, ImperativePerson, InfinitiveForm"
   ]
  },
  {
   "cell_type": "code",
   "execution_count": 14,
   "id": "06ce283e",
   "metadata": {},
   "outputs": [
    {
     "name": "stdout",
     "output_type": "stream",
     "text": [
      "Stutzertum, das (Substantiv, Neutrum)\n"
     ]
    }
   ],
   "source": [
    "wod=dd.get_word_of_the_day()\n",
    "print(wod)"
   ]
  },
  {
   "cell_type": "code",
   "execution_count": 6,
   "id": "632cc11d-1c8c-4ed7-a54a-ef447675c517",
   "metadata": {},
   "outputs": [],
   "source": [
    "excel_file = 'C:/Users/CLArch/Desktop/developmentProjects/duden/movies.xls'\n",
    "movies = pd.read_excel(excel_file)"
   ]
  },
  {
   "cell_type": "code",
   "execution_count": null,
   "id": "8a211c60",
   "metadata": {},
   "outputs": [
    {
     "data": {
      "text/plain": [
       "(1338, 25)"
      ]
     },
     "execution_count": 11,
     "metadata": {},
     "output_type": "execute_result"
    }
   ],
   "source": [
    "movies.shape"
   ]
  },
  {
   "cell_type": "code",
   "execution_count": 25,
   "id": "6f2bd341",
   "metadata": {},
   "outputs": [
    {
     "name": "stdout",
     "output_type": "stream",
     "text": [
      "laufen (starkes Verb)\n"
     ]
    }
   ],
   "source": [
    "ww = dd.get('laufen')\n",
    "print(ww)"
   ]
  },
  {
   "cell_type": "code",
   "execution_count": null,
   "id": "9ff51863",
   "metadata": {},
   "outputs": [
    {
     "ename": "ValueError",
     "evalue": "Cannot inflect. Missing data for: 'Infinite Formen'.'2. Person Singular [du]' . Did you mean 'Infinitiv mit zu', 'Partizip I', 'Partizip II'?",
     "output_type": "error",
     "traceback": [
      "\u001b[1;31m---------------------------------------------------------------------------\u001b[0m",
      "\u001b[1;31mValueError\u001b[0m                                Traceback (most recent call last)",
      "Cell \u001b[1;32mIn[44], line 2\u001b[0m\n\u001b[0;32m      1\u001b[0m inf \u001b[38;5;241m=\u001b[39m dd\u001b[38;5;241m.\u001b[39mget(\u001b[38;5;124m\"\u001b[39m\u001b[38;5;124mlaufen\u001b[39m\u001b[38;5;124m\"\u001b[39m)\u001b[38;5;241m.\u001b[39minflection\n\u001b[1;32m----> 2\u001b[0m \u001b[43minf\u001b[49m\u001b[38;5;241;43m.\u001b[39;49m\u001b[43mverb_infinitive_forms\u001b[49m\u001b[43m(\u001b[49m\u001b[43mImperativePerson\u001b[49m\u001b[38;5;241;43m.\u001b[39;49m\u001b[43mPERSON_2_SINGULAR\u001b[49m\u001b[43m)\u001b[49m\n",
      "File \u001b[1;32mc:\\Users\\CLArch\\Desktop\\developmentProjects\\duden\\venv\\Lib\\site-packages\\duden\\inflection.py:225\u001b[0m, in \u001b[0;36mInflector.verb_infinitive_forms\u001b[1;34m(self, form)\u001b[0m\n\u001b[0;32m    223\u001b[0m \u001b[38;5;28;01mdef\u001b[39;00m\u001b[38;5;250m \u001b[39m\u001b[38;5;21mverb_infinitive_forms\u001b[39m(\u001b[38;5;28mself\u001b[39m, form):\n\u001b[0;32m    224\u001b[0m \u001b[38;5;250m    \u001b[39m\u001b[38;5;124;03m\"\"\"Verb infinitive form\"\"\"\u001b[39;00m\n\u001b[1;32m--> 225\u001b[0m     \u001b[38;5;28;01mreturn\u001b[39;00m \u001b[38;5;28;43mself\u001b[39;49m\u001b[38;5;241;43m.\u001b[39;49m\u001b[43minflect\u001b[49m\u001b[43m(\u001b[49m\u001b[43mVERB_INFINITIVE_FORMS\u001b[49m\u001b[43m,\u001b[49m\u001b[43m \u001b[49m\u001b[43mform\u001b[49m\u001b[43m)\u001b[49m\n",
      "File \u001b[1;32mc:\\Users\\CLArch\\Desktop\\developmentProjects\\duden\\venv\\Lib\\site-packages\\duden\\inflection.py:186\u001b[0m, in \u001b[0;36mInflector.inflect\u001b[1;34m(self, *key_chain)\u001b[0m\n\u001b[0;32m    184\u001b[0m     other_choices \u001b[38;5;241m=\u001b[39m \u001b[38;5;124m\"\u001b[39m\u001b[38;5;124m, \u001b[39m\u001b[38;5;124m\"\u001b[39m\u001b[38;5;241m.\u001b[39mjoin(\u001b[38;5;28mrepr\u001b[39m(key) \u001b[38;5;28;01mfor\u001b[39;00m key \u001b[38;5;129;01min\u001b[39;00m inner\u001b[38;5;241m.\u001b[39msource\u001b[38;5;241m.\u001b[39mkeys())\n\u001b[0;32m    185\u001b[0m     err_msg \u001b[38;5;241m=\u001b[39m _(\u001b[38;5;124m\"\u001b[39m\u001b[38;5;124mCannot inflect. Missing data for: \u001b[39m\u001b[38;5;132;01m{}\u001b[39;00m\u001b[38;5;124m . Did you mean \u001b[39m\u001b[38;5;132;01m{}\u001b[39;00m\u001b[38;5;124m?\u001b[39m\u001b[38;5;124m\"\u001b[39m)\n\u001b[1;32m--> 186\u001b[0m     \u001b[38;5;28;01mraise\u001b[39;00m \u001b[38;5;167;01mValueError\u001b[39;00m(err_msg\u001b[38;5;241m.\u001b[39mformat(keys_str, other_choices)) \u001b[38;5;28;01mfrom\u001b[39;00m\u001b[38;5;250m \u001b[39m\u001b[38;5;28;01mNone\u001b[39;00m\n\u001b[0;32m    187\u001b[0m \u001b[38;5;28;01mreturn\u001b[39;00m inner\n",
      "\u001b[1;31mValueError\u001b[0m: Cannot inflect. Missing data for: 'Infinite Formen'.'2. Person Singular [du]' . Did you mean 'Infinitiv mit zu', 'Partizip I', 'Partizip II'?"
     ]
    }
   ],
   "source": [
    "inf = dd.get(\"laufen\").inflection\n",
    "inf.verb_infinitive_forms(Mood.INDICATIVE)"
   ]
  }
 ],
 "metadata": {
  "kernelspec": {
   "display_name": "venv",
   "language": "python",
   "name": "python3"
  },
  "language_info": {
   "codemirror_mode": {
    "name": "ipython",
    "version": 3
   },
   "file_extension": ".py",
   "mimetype": "text/x-python",
   "name": "python",
   "nbconvert_exporter": "python",
   "pygments_lexer": "ipython3",
   "version": "3.12.6"
  }
 },
 "nbformat": 4,
 "nbformat_minor": 5
}
